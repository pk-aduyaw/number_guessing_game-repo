{
 "cells": [
  {
   "cell_type": "code",
   "execution_count": 2,
   "id": "d6e55ff4-aea0-400e-982f-bfd1745274f0",
   "metadata": {},
   "outputs": [
    {
     "name": "stdout",
     "output_type": "stream",
     "text": [
      "XYZ Number Guess Game\n",
      "Welcome to the game..\n",
      "Wrong input! Enter a number between 1 and 15\n",
      "\n",
      "Wrong input! Enter a number between 1 and 15\n",
      "\n",
      "Wrong input! Enter a number between 1 and 15\n",
      "\n",
      "Wrong input! Enter a number between 1 and 15\n",
      "\n",
      "Wrong input! Enter a number between 1 and 15\n",
      "\n",
      "Great! You have enter a number in the range\n",
      "\n",
      "Let's check your guess...\n",
      "\n",
      "Wrong guess! Try again...\n",
      "\n",
      "Great! You have enter a number in the range\n",
      "\n",
      "Let's check your guess...\n",
      "\n",
      "Wrong guess! Try again...\n",
      "\n",
      "Great! You have enter a number in the range\n",
      "\n",
      "Let's check your guess...\n",
      "\n",
      "Wrong guess! Try again...\n",
      "\n",
      "Great! You have enter a number in the range\n",
      "\n",
      "Let's check your guess...\n",
      "\n",
      "Wrong guess! Try again...\n",
      "\n",
      "Great! You have enter a number in the range\n",
      "\n",
      "Let's check your guess...\n",
      "\n",
      "Wrong guess! Try again...\n",
      "\n",
      "Great! You have enter a number in the range\n",
      "\n",
      "Let's check your guess...\n",
      "\n",
      "Wrong guess! Try again...\n",
      "\n",
      "Great! You have enter a number in the range\n",
      "\n",
      "Let's check your guess...\n",
      "\n",
      "Wrong guess! Try again...\n",
      "\n",
      "Great! You have enter a number in the range\n",
      "\n",
      "Let's check your guess...\n",
      "\n",
      "Wrong guess! Try again...\n",
      "\n"
     ]
    },
    {
     "data": {
      "text/plain": [
       "'See you next time...'"
      ]
     },
     "execution_count": 2,
     "metadata": {},
     "output_type": "execute_result"
    }
   ],
   "source": [
    "import random as r\n",
    "\n",
    "# Give a name to the game\n",
    "print('XYZ Number Guess Game')\n",
    "print('Welcome to the game..')\n",
    "\n",
    "# Generate a random number automatically\n",
    "selected_number = r.randint(1,15)\n",
    "\n",
    "# Ask user to input a number between 1 and 15\n",
    "# Cast the input into a number\n",
    "prediction = int(input(\"Guess a number between 1 and 15: \"))\n",
    "\n",
    "# Let the user enter the input again if the guessed number is not the same as the randomly generated number\n",
    "# End the program when the prediction is equal to selected_number\n",
    "while prediction != selected_number:\n",
    "    if prediction > 15:\n",
    "        print('Wrong input! Enter a number between 1 and 15')\n",
    "    elif prediction < 1:\n",
    "        print('Wrong input! Enter a number between 1 and 15')\n",
    "    else:\n",
    "        print('Great! You have entered a number in the range')\n",
    "        print()\n",
    "        print('Let\\'s check your guess...')\n",
    "        print()\n",
    "        # Add a note to make the user try again by inputting the number again\n",
    "        print(\"Wrong guess! Try again...\")\n",
    "    print()\n",
    "    prediction = int(input(\"Guess a number between 1 and 15: \"))\n",
    "\n",
    "# Add the note to congratulate the user\n",
    "f'Yaayyyy! the answer is {prediction}🥳'"
   ]
  },
  {
   "cell_type": "code",
   "execution_count": null,
   "id": "6e78d14c-1501-44f0-9ad8-931b691c43eb",
   "metadata": {},
   "outputs": [],
   "source": []
  }
 ],
 "metadata": {
  "kernelspec": {
   "display_name": "Python 3 (ipykernel)",
   "language": "python",
   "name": "python3"
  },
  "language_info": {
   "codemirror_mode": {
    "name": "ipython",
    "version": 3
   },
   "file_extension": ".py",
   "mimetype": "text/x-python",
   "name": "python",
   "nbconvert_exporter": "python",
   "pygments_lexer": "ipython3",
   "version": "3.10.9"
  }
 },
 "nbformat": 4,
 "nbformat_minor": 5
}
